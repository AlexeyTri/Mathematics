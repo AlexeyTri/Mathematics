{
  "nbformat": 4,
  "nbformat_minor": 0,
  "metadata": {
    "colab": {
      "provenance": [],
      "collapsed_sections": [
        "6adeT6-IFACI"
      ],
      "authorship_tag": "ABX9TyPaxhj/waku6qFBxYX4ha5T",
      "include_colab_link": true
    },
    "kernelspec": {
      "name": "python3",
      "display_name": "Python 3"
    },
    "language_info": {
      "name": "python"
    }
  },
  "cells": [
    {
      "cell_type": "markdown",
      "metadata": {
        "id": "view-in-github",
        "colab_type": "text"
      },
      "source": [
        "<a href=\"https://colab.research.google.com/github/AlexeyTri/Mathematics/blob/main/Mathematics_3.ipynb\" target=\"_parent\"><img src=\"https://colab.research.google.com/assets/colab-badge.svg\" alt=\"Open In Colab\"/></a>"
      ]
    },
    {
      "cell_type": "markdown",
      "source": [],
      "metadata": {
        "id": "yvQ7uU5ZCeKa"
      }
    },
    {
      "cell_type": "code",
      "execution_count": null,
      "metadata": {
        "id": "NgJ8OF3GCNEk"
      },
      "outputs": [],
      "source": [
        "import math as m\n",
        "import numpy as np\n",
        "import scipy\n",
        "import sklearn\n",
        "import matplotlib.pyplot as plt"
      ]
    },
    {
      "cell_type": "code",
      "source": [
        "import sympy\n",
        "from sympy import *"
      ],
      "metadata": {
        "id": "AvzsdFlbERHK"
      },
      "execution_count": null,
      "outputs": []
    },
    {
      "cell_type": "markdown",
      "source": [
        "# Функции для раздела \"Линейная алгебра и Аналитическая геометрия\""
      ],
      "metadata": {
        "id": "6adeT6-IFACI"
      }
    },
    {
      "cell_type": "code",
      "source": [
        "# distance_line() находит расстояние медлу двумя прямыми(в том числе скрещивающимися)\n",
        "\n",
        "def distance_line(A, B, M, N):\n",
        "    \"\"\"\n",
        "    A, B, M, N - точки\n",
        "    Функция наход расстояние между прямыми AB-MN\n",
        "    \"\"\"\n",
        "    AB = Point(B.x-A.x, B.y-A.y, B.z-A.z)\n",
        "\n",
        "    l1 = Line(A, B)\n",
        "    l2 = Line(M, N)\n",
        "\n",
        "    \"\"\"\n",
        "    Плоскостсь, проходящая через точку А, перпендикулярная прямой АВ\n",
        "    \"\"\"\n",
        "    p = Plane(A, normal_vector=AB)\n",
        "\n",
        "    \"\"\"\n",
        "    Проекция прямой MN на плоскость p\n",
        "    \"\"\"\n",
        "    p_l2 = p.projection(l2)\n",
        "\n",
        "    \"\"\"\n",
        "    Расстояние от точки А до прямой p_l2\n",
        "    \"\"\"\n",
        "\n",
        "    d = p_l2.distance(A)\n",
        "    return d"
      ],
      "metadata": {
        "id": "HQ9Akr-oEi8J"
      },
      "execution_count": 11,
      "outputs": []
    },
    {
      "cell_type": "code",
      "source": [
        "# Point_onside_L() возвращает True, если точки A, B лежат по одну сторону от прямой l\n",
        "def Point_oneside_L(A, B, l):\n",
        "    s = Segment(A, B)\n",
        "    return not(Line.are_concurrent(l, s))"
      ],
      "metadata": {
        "id": "JoiaCfDsLXWl"
      },
      "execution_count": 12,
      "outputs": []
    },
    {
      "cell_type": "code",
      "source": [
        "# Point_oneside_P() возвращает True, если точки A, B лежат по одну сторону от плоскости P\n",
        "def Point_oneside_P(A, B, P):\n",
        "    s = Segment(A, B)\n",
        "    p = P.interseptiont(s)\n",
        "\n",
        "    if len(p) == 0:\n",
        "        return True\n",
        "    else:\n",
        "        return not(s.contains(p[0]))"
      ],
      "metadata": {
        "id": "TZajDSwwP1C6"
      },
      "execution_count": 13,
      "outputs": []
    },
    {
      "cell_type": "code",
      "source": [
        "# Point_opposite_l() возвращает координаты точки, симметричной относительно заданной прямой (на плоскости или в пространстве)\n",
        "\n",
        "def Point_opposite_l(A, l):\n",
        "    A0 = l.projection(A)\n",
        "\n",
        "    x = 2*A0.x - A.x\n",
        "    y = 2*A0.y - A.y\n",
        "\n",
        "    if len(A)==2:\n",
        "        return Point(x, y)\n",
        "    elif len(A) == 3:\n",
        "        z = 2*A0.z - A.z\n",
        "\n",
        "        return Point(x, y, z)"
      ],
      "metadata": {
        "id": "R0Dc5GGkZcJ6"
      },
      "execution_count": 14,
      "outputs": []
    },
    {
      "cell_type": "code",
      "source": [
        "# Point_opposite_P() возвращает координаты точки, симметричной относительно заданной плоскости\n",
        "\n",
        "def Point_opposite_P(A, P):\n",
        "    A0 = l.projection(A)\n",
        "\n",
        "    x = 2*A0.x - A.x\n",
        "    y = 2*A0.y - A.y\n",
        "    z = 2*A0.z - A.z\n",
        "\n",
        "    return Point(x, y, z)"
      ],
      "metadata": {
        "id": "W0X3_V3ZIioS"
      },
      "execution_count": 15,
      "outputs": []
    },
    {
      "cell_type": "code",
      "source": [
        "# Conic_curve() по данным коэффициентам уравнения кривой второго порядка определяет тип кривой и\n",
        "# выполняет преобразование поворота для устранения слагаемого, содержащего произведение переменных\n",
        "\n",
        "def conic_curve(A, a, f_transform=0):\n",
        "    \"\"\"\n",
        "    A - матрица, содержащая коэффициенты квадратичной формы\n",
        "    а - вектор, содержащий коэффициенты при переменных 1-й степени и свободный член\n",
        "    f_transform != 0 - дополнительно выводит формулы перехода к каноническому виду\n",
        "    \"\"\"\n",
        "\n",
        "    if (A.shape() != (2,2) or (len(a) != 3)):\n",
        "        return ValueError(\"Неверный размер матриц A, a\")\n",
        "\n",
        "    a11 = A[0, 0], a12 = A[0, 1], a22 = A[1, 1]\n",
        "    a1 = a[0], a2 = a[1], a0 = a[2]\n",
        "\n",
        "    D = det(A)\n",
        "    Delta = det(Matrix([[a11, a12, a1],\n",
        "                        [a12, a22, a2],\n",
        "                        [a1, a2, a0]]))\n",
        "\n",
        "    I = a11 + a22\n",
        "    B = det(Matrix([[a11, a1],\n",
        "                    [a1, a0]])) +\\\n",
        "        det(Matrix([[a22, a2],\n",
        "                    [a2, a0]]))\n",
        "\n",
        "    if (Delta*I < 0) and (D > 0):\n",
        "        print(\"Эллипс\")\n",
        "\n",
        "    if (Delta != 0) and (D < 0):\n",
        "        print(\"Гипербола\")\n",
        "\n",
        "    if (Delta != 0) and (D == 0):\n",
        "        print(\"Парабола\")\n",
        "\n",
        "    if (Delta == 0) and (D < 0):\n",
        "        print(\"Пара пересекающихся прямых\")\n",
        "\n",
        "    if (Delta == 0) and (D == 0) and (B < 0):\n",
        "        print(\"Пара параллельных прямых\")\n",
        "\n",
        "    if (Delta == 0) and (D == 0) and (B == 0):\n",
        "        print(\"Прямая\")\n",
        "\n",
        "    if (Delta == 0) and (D > 0) and (B == 0):\n",
        "        print(\"Точка\")\n",
        "\n",
        "    if (Delta*I > 0) and (D > 0):\n",
        "        print(\"Мнимый эллипс\")\n",
        "\n",
        "    if (Delta == 0) and (D == 0) and (B > 0):\n",
        "        print(\"Пара мнимых параллельных прямых\")\n",
        "\n",
        "\n",
        "    \"\"\"\n",
        "    Поворот системы координат для устранения слагаемого x*y\n",
        "    \"\"\"\n",
        "\n",
        "    T, _ = A.diagonalize()\n",
        "    T1 = T.inv()\n",
        "    n1 = sqrt(T1[0, 0]**2 + T1[1, 0]**2)\n",
        "    n2 = sqrt(T1[0, 1]**2 + T1[1, 1]**2)\n",
        "    x, y, x1,y1 = symbols('x y x1 y1')\n",
        "    \"\"\"Исходное уравнение кривой\"\"\"\n",
        "    Q0 = a11*x**2 + 2*a12*x*y + a22*y**2 + 2*a1*x + 2*a2*y + a0\n",
        "    x0 = (T1[0, 0]/n1)*x1 + (T1[1, 0]/n1)*y1\n",
        "    y0 = (T1[0, 1]/n2)*x1 + (T1[1, 1]/n2)*y1\n",
        "    \"\"\"Уравнение кривой после поворота\"\"\"\n",
        "    Q = Q0.subs({x: x0, y: y0}).simplify()\n",
        "\n",
        "    if (f_transform == 0):\n",
        "        print(\"Уравнение: %s\" % Q)\n",
        "    else:\n",
        "        print(\"Уравнение: %s\" % Q)\n",
        "        print(\"Формулы перехода\")\n",
        "        print('x = %s' % x0)\n",
        "        print('y = %s' % y0)"
      ],
      "metadata": {
        "id": "dGq1RjpYzlU6"
      },
      "execution_count": 19,
      "outputs": []
    },
    {
      "cell_type": "code",
      "source": [
        "# conic_surface() - по данным коэффициентам уравнения поверхности второго порядка определяет тип поверхности и\n",
        "# выполняет преобразование поворота для устранения слагаемых, содержащих произведение переменных\n",
        "\n",
        "def conic_surface(A, a, f_transform=0):\n",
        "    \"\"\"\n",
        "    A - матрица, содержащая коэффициенты квадратичной формы\n",
        "    а - вектор, содержащий коэффициенты при переменных 1-й степени и свободный член\n",
        "    f_transform != 0 - дополнительно выводит формулы перехода к каноническому виду\n",
        "    \"\"\"\n",
        "\n",
        "    a11 = A[0, 0], a12 = A[0, 1], a13 = A[0, 2]\n",
        "    a22 = A[1, 1], a23 = A[1, 2], a33 = A[2, 2]\n",
        "    a1 = a[0], a2 = a[1], a3 = a[2], a0 = a[3]\n",
        "\n",
        "    D = det(Matrix([[a11, a12, a13],\n",
        "                    [a12, a22, a23],\n",
        "                    [a13, a23, a33]]))\n",
        "\n",
        "    Delta = det(Matrix([[a11, a12, a13, a1],\n",
        "                        [a12, a22, a23, a2],\n",
        "                        [a13, a23, a33, a3],\n",
        "                        [a1,  a2,  a3,  a0]]))\n",
        "\n",
        "    I1 = a11 + a22 + a33\n",
        "    I2 = det(Matrix([[a11, a12],\n",
        "                     [a12, a22]])) + \\\n",
        "         det(Matrix([[a11, a13],\n",
        "                     [a13, a33]])) + \\\n",
        "         det(Matrix([[a22, a23],\n",
        "                     [a23, a33]]))\n",
        "\n",
        "    K1 = det(Matrix([[a11, a1],\n",
        "                     [a1, a0]])) + \\\n",
        "         det(Matrix([[a22, a2],\n",
        "                     [a2, a0]])) + \\\n",
        "         det(Matrix([[a33, a3],\n",
        "                     [a3, a0]]))\n",
        "\n",
        "    K2 = det(Matrix([[a11, a12, a1],\n",
        "                     [a12, a22, a2],\n",
        "                     [a1, a2, a0]])) + \\\n",
        "         det(Matrix([[a11, a13, a1],\n",
        "                     [a13, a33, a3],\n",
        "                     [a1, a3, a0]])) + \\\n",
        "         det(Matrix([[a22, a23, a2],\n",
        "                     [a23, a33, a3],\n",
        "                     [a2, a3, a0]]))\n",
        "\n",
        "\n",
        "    if (D != 0) and (Delta < 0) and (I2 > 0) and (I1*D > 0):\n",
        "        print(\"Эллипсоид\")\n",
        "\n",
        "    if (D != 0) and (Delta > 0) and (I2 > 0) and (I1*D > 0):\n",
        "        print(\"Мнимый элипсоид\")\n",
        "\n",
        "    if (D != 0) and (Delta == 0) and (I2 > 0) and (I1*D > 0):\n",
        "        print(\"Мнимый конус\")\n",
        "\n",
        "    if (D != 0) and (Delta > 0) and ((I2 <= 0) or (I1*D <= 0)):\n",
        "        print(\"Однополосный гиперболоид\")\n",
        "\n",
        "    if (D != 0) and (Delta < 0) and ((I2 <= 0) or (I1*D <= 0)):\n",
        "        print(\"Конус\")\n",
        "\n",
        "    if (D == 0) and (Delta == 0) and (I2 > 0) and (I1*K2 < 0):\n",
        "        print(\"Элиптический цилиндр\")\n",
        "\n",
        "    if (D == 0) and (Delta == 0) and (I2 > 0) and (I1*K2 > 0):\n",
        "        print(\"Мнимый элиптический цилиндр\")\n",
        "\n",
        "    if (D == 0) and (Delta == 0) and (I2 > 0) and (K2 == 0):\n",
        "        print(\"Пара мнимых пересекающихся плоскостей\")\n",
        "\n",
        "    if (D == 0) and (Delta == 0) and (I2 < 0) and (K2 != 0):\n",
        "        print(\"Гиперболический цилиндр\")\n",
        "\n",
        "    if (D == 0) and (Delta == 0) and (I2 < 0) and (K2 == 0):\n",
        "        print(\"Пара пересекающихся плоскостей\")\n",
        "\n",
        "    if (D == 0) and (Delta == 0) and (I2 == 0) and (K2 != 0):\n",
        "        print(\"параболический цилиндр\")\n",
        "\n",
        "    if (D == 0) and (Delta == 0) and (I2 == 0) and (K2 == 0) and (K1 < 0):\n",
        "        print(\"Пара параллельных плоскостей\")\n",
        "\n",
        "    if (D == 0) and (Delta == 0) and (I2 == 0) and (K2 == 0) and (K1 > 0):\n",
        "        print(\"Пара мнимых параллельных плоскостей\")\n",
        "\n",
        "\n",
        "    \"\"\"\n",
        "    Поворот системы координат для устранения слагаемого x*y\n",
        "    \"\"\"\n",
        "\n",
        "    T, _ = A.diagonalize()\n",
        "    T1 = T.inv()\n",
        "    n1 = sqrt(T1[0, 0]**2 + T1[1, 0]**2 + T1[2, 0]**2)\n",
        "    n2 = sqrt(T1[0, 1]**2 + T1[1, 1]**2 + T1[2, 1]**2)\n",
        "    n3 = sqrt(T1[0, 2]**2 + T1[1, 2]**2 + T1[2, 2]**2)\n",
        "    x, y, z, x1,y1, z1 = symbols('x y z x1 y1 z1')\n",
        "    \"\"\"Исходное уравнение кривой\"\"\"\n",
        "    Q0 = a11*x**2 + 2*a12*x*y + a22*y**2 + 2*a13*x*z + \\\n",
        "        2*a23*y*z + a33*z**2 + 2*a1*x + 2*a2*y + 2*a3*z + a0\n",
        "    x0 = (T1[0, 0]/n1)*x1 + (T1[1, 0]/n1)*y1 + (T1[2, 0]/n1)*z1\n",
        "    y0 = (T1[0, 1]/n2)*x1 + (T1[1, 1]/n2)*y1 + (T1[2, 1]/n2)*z1\n",
        "    z0 = (T1[0, 2]/n3)*x1 + (T1[1, 2]/n3)*y1 + (T1[2, 2]/n3)*z1\n",
        "    \"\"\"Уравнение кривой после поворота\"\"\"\n",
        "    Q = Q0.subs({x: x0, y: y0, z: z0}).simplify()\n",
        "\n",
        "    if (f_transform == 0):\n",
        "        print(\"Уравнение: %s\" % Q)\n",
        "    else:\n",
        "        print(\"Уравнение: %s\" % Q)\n",
        "        print(\"Формулы перехода\")\n",
        "        print('x = %s' % x0)\n",
        "        print('y = %s' % y0)\n",
        "\n"
      ],
      "metadata": {
        "id": "4g0wlsa4Iiw-"
      },
      "execution_count": 20,
      "outputs": []
    },
    {
      "cell_type": "markdown",
      "source": [
        "# Линейная алгебра и аналитическая геометрия"
      ],
      "metadata": {
        "id": "6kGc6F5PZPIM"
      }
    },
    {
      "cell_type": "markdown",
      "source": [
        "*n-мерный вектор*\n",
        "\n",
        "$a=(a_1, a_2, ..., a_n)$\n",
        "\n",
        "$a=\n",
        "\\begin{pmatrix}\n",
        "a_1\\\\\n",
        "a_2\\\\\n",
        "...\\\\\n",
        "a_n\n",
        "\\end{pmatrix}$\n",
        "\n",
        "*Линейная комбинация векторов-разложение вектора e по векторам*\n",
        "\n",
        "$e=λ_1e_1+λ_2e_2+...+λ_ne_n$\n",
        "\n",
        "\n",
        "*Базис - система n-линейно независимых векторов пространства $ℝ^n$*\n",
        "\n",
        "*разложение вектора a по базису:*\n",
        "\n",
        "$a = a_1e_1+a_2e_2+...+a_ne_n$\n",
        "\n",
        "\n",
        "*Модуль вектора*\n",
        "\n",
        "$\\sqrt{a_1^2+a_3^2+a_3^2+...+a_n^2}$\n",
        "\n",
        "*Направляющие косинусы - косинусы углов, образованных векторов и положительными направлениями полуосей*\n",
        "$a=(a_1, a_2)$\n",
        "$coaα = \\frac{a_1}{\\sqrt{a_1^2+a_2^2}}, cosβ=\\frac{a_2}{\\sqrt{a_1^2+a_2^2}}$\n",
        "\n"
      ],
      "metadata": {
        "id": "maio-xIeZWf3"
      }
    },
    {
      "cell_type": "markdown",
      "source": [
        "*Примеры 1,2*"
      ],
      "metadata": {
        "id": "_XArjUhzit5-"
      }
    },
    {
      "cell_type": "code",
      "source": [
        "# создание вектора\n",
        "a = np.array([1,2,3,4,5])"
      ],
      "metadata": {
        "id": "hD26ngb-OSR7"
      },
      "execution_count": null,
      "outputs": []
    },
    {
      "cell_type": "code",
      "source": [
        "# элементы вектора\n",
        "a[1], a[1:4], a[-1]"
      ],
      "metadata": {
        "colab": {
          "base_uri": "https://localhost:8080/"
        },
        "id": "bSydsPUYjHMb",
        "outputId": "c224f441-5ae8-4ab5-b1cf-dc03adeded76"
      },
      "execution_count": null,
      "outputs": [
        {
          "output_type": "execute_result",
          "data": {
            "text/plain": [
              "(np.int64(2), array([2, 3, 4]), np.int64(5))"
            ]
          },
          "metadata": {},
          "execution_count": 5
        }
      ]
    },
    {
      "cell_type": "code",
      "source": [
        "# действия над векторами\n",
        "b = np.array([11, 12, 13, 14, 15])\n",
        "a + b"
      ],
      "metadata": {
        "colab": {
          "base_uri": "https://localhost:8080/"
        },
        "id": "BQ_DP-abjUFQ",
        "outputId": "c0f77198-483e-4c8c-f081-a2e037921858"
      },
      "execution_count": null,
      "outputs": [
        {
          "output_type": "execute_result",
          "data": {
            "text/plain": [
              "array([12, 14, 16, 18, 20])"
            ]
          },
          "metadata": {},
          "execution_count": 7
        }
      ]
    },
    {
      "cell_type": "code",
      "source": [
        "# длина вектора\n",
        "np.linalg.norm([3,4])"
      ],
      "metadata": {
        "colab": {
          "base_uri": "https://localhost:8080/"
        },
        "id": "Wr_HOvHKjQ43",
        "outputId": "f0a27a24-dfd8-4e54-c9aa-b730f6b704a4"
      },
      "execution_count": null,
      "outputs": [
        {
          "output_type": "execute_result",
          "data": {
            "text/plain": [
              "np.float64(5.0)"
            ]
          },
          "metadata": {},
          "execution_count": 10
        }
      ]
    },
    {
      "cell_type": "markdown",
      "source": [
        "*Пример 3:* найти скалярное произведение векторов f, g\n",
        "\n",
        "$\n",
        "(f, g) = ∑f_ig_i\n",
        "$\n",
        "\n",
        "$\n",
        "(f, g) = \\frac{|f|*|g|}{cosα}\n",
        "$"
      ],
      "metadata": {
        "id": "0PhAVUEuj1s-"
      }
    },
    {
      "cell_type": "code",
      "source": [
        "# найти скалярноу произведение векторов f=(3, 1, 3) g=(0, -2, 1)\n",
        "\n",
        "f = np.array([3, 1, 4])\n",
        "g = np.array([0, -2, 1])\n",
        "np.dot(f, g) == f@g, np.dot(f, g), f@g"
      ],
      "metadata": {
        "colab": {
          "base_uri": "https://localhost:8080/"
        },
        "id": "IRBOAnNLPYy9",
        "outputId": "0907af1e-f377-41bc-de57-823f4442e129"
      },
      "execution_count": null,
      "outputs": [
        {
          "output_type": "execute_result",
          "data": {
            "text/plain": [
              "(np.True_, np.int64(2), np.int64(2))"
            ]
          },
          "metadata": {},
          "execution_count": 11
        }
      ]
    },
    {
      "cell_type": "markdown",
      "source": [
        "*Пример 4:* найти проекцию вектора а(1, 2) на вектор b=(3, 4)\n",
        "\n",
        "$\n",
        "Pr_ba = \\frac{a*b}{|b|}\n",
        "$"
      ],
      "metadata": {
        "id": "uRiP8yrUlOpM"
      }
    },
    {
      "cell_type": "code",
      "source": [
        "a = np.array([1, 2])\n",
        "b = np.array([3, 4])\n",
        "\n",
        "np.dot(a, b)/np.linalg.norm(b)"
      ],
      "metadata": {
        "colab": {
          "base_uri": "https://localhost:8080/"
        },
        "id": "kJ1q0Qw7lsT1",
        "outputId": "5d33adca-a84f-4a47-c09d-ffb6e7160b9f"
      },
      "execution_count": null,
      "outputs": [
        {
          "output_type": "execute_result",
          "data": {
            "text/plain": [
              "np.float64(2.2)"
            ]
          },
          "metadata": {},
          "execution_count": 12
        }
      ]
    },
    {
      "cell_type": "markdown",
      "source": [
        "*Пример 5:* найти векторное произведение векторов f=(3, 1,4), g=(0,-2,1)\n",
        "\n",
        "$\n",
        "[f\\times g] = i*\n",
        "\\begin{vmatrix}\n",
        "f2 & f3\\\\\n",
        "g2 & g3\n",
        "\\end{vmatrix}\n",
        "-j*\n",
        "\\begin{vmatrix}\n",
        "f1 & f3\\\\\n",
        "g1 & g3\n",
        "\\end{vmatrix}\n",
        "+k*\n",
        "\\begin{vmatrix}\n",
        "f1 & f2\\\\\n",
        "g1 & g2\n",
        "\\end{vmatrix}\n",
        "$\n",
        "\n",
        "\n",
        "$\n",
        "|f\\times g| = |f|*|g|*sinα\n",
        "$"
      ],
      "metadata": {
        "id": "U0TM1Yc4mAPa"
      }
    },
    {
      "cell_type": "code",
      "source": [
        "f = np.array([3, 1, 4])\n",
        "g = np.array([0, -2, 1])\n",
        "np.cross(f, g)"
      ],
      "metadata": {
        "colab": {
          "base_uri": "https://localhost:8080/"
        },
        "id": "grRgEa7-o9MG",
        "outputId": "69c4c1fd-a724-4eb1-8986-3fda9a6fe80b"
      },
      "execution_count": null,
      "outputs": [
        {
          "output_type": "execute_result",
          "data": {
            "text/plain": [
              "array([ 9, -3, -6])"
            ]
          },
          "metadata": {},
          "execution_count": 82
        }
      ]
    },
    {
      "cell_type": "code",
      "source": [
        "np.linalg.det([[1, 4],[-2, 1]]), - np.linalg.det([[3, 4],[0, 1]]), np.linalg.det([[3, 1],[0, -2]])"
      ],
      "metadata": {
        "colab": {
          "base_uri": "https://localhost:8080/"
        },
        "id": "ILj_Qo0ApQg0",
        "outputId": "6fda40f1-9288-4c26-e66d-2e5f0b4c093d"
      },
      "execution_count": null,
      "outputs": [
        {
          "output_type": "execute_result",
          "data": {
            "text/plain": [
              "(np.float64(9.000000000000002),\n",
              " np.float64(-3.0000000000000004),\n",
              " np.float64(-6.0))"
            ]
          },
          "metadata": {},
          "execution_count": 15
        }
      ]
    },
    {
      "cell_type": "markdown",
      "source": [
        "*Смешанное произведение 3-х мерных векторов: ${a, b, c}$*\n",
        "\n",
        "$\n",
        "{a, b, c} = (a, [b\\times c])\n",
        "$\n",
        "\n",
        "$\n",
        "{a, b, c} =\n",
        "\\begin{vmatrix}\n",
        "a_1 & a_2 & a_3 \\\\\n",
        "b_1 & b_2 & b_3 \\\\\n",
        "c_1 & c_2 & c_3\n",
        "\\end{vmatrix}\n",
        "$"
      ],
      "metadata": {
        "id": "AVGL0soXCBod"
      }
    },
    {
      "cell_type": "markdown",
      "source": [
        "*Пример 6:* даны точки $P_1(2, 2), P_2(10, 6)$ принадлежит ли $P(8, 5)$ отрезку $P_1P_2$\n"
      ],
      "metadata": {
        "id": "p3VAEKv9_6Cd"
      }
    },
    {
      "cell_type": "code",
      "source": [
        "P1P = np.array([8-2,5-2])\n",
        "P2P = np.array([8-10,5-6])\n",
        "\n",
        "np.cross(P1P, P2P)"
      ],
      "metadata": {
        "colab": {
          "base_uri": "https://localhost:8080/"
        },
        "id": "xmsZIsA1AcYZ",
        "outputId": "92f55779-d466-4f73-a5b8-abfd3f6302c9"
      },
      "execution_count": null,
      "outputs": [
        {
          "output_type": "stream",
          "name": "stderr",
          "text": [
            "<ipython-input-17-dc6d3112592c>:4: DeprecationWarning: Arrays of 2-dimensional vectors are deprecated. Use arrays of 3-dimensional vectors instead. (deprecated in NumPy 2.0)\n",
            "  np.cross(P1P, P2P)\n"
          ]
        },
        {
          "output_type": "execute_result",
          "data": {
            "text/plain": [
              "array(0)"
            ]
          },
          "metadata": {},
          "execution_count": 17
        }
      ]
    },
    {
      "cell_type": "markdown",
      "source": [
        "*Sympy*"
      ],
      "metadata": {
        "id": "5RfdRvOpD1n1"
      }
    },
    {
      "cell_type": "code",
      "source": [
        "Point(1, 2, 3), Point([2,4]), Point(dim=4)"
      ],
      "metadata": {
        "colab": {
          "base_uri": "https://localhost:8080/"
        },
        "id": "W3txabzSDkGw",
        "outputId": "79f4c560-a575-494f-ad46-6e10e45ce898"
      },
      "execution_count": null,
      "outputs": [
        {
          "output_type": "execute_result",
          "data": {
            "text/plain": [
              "(Point3D(1, 2, 3), Point2D(2, 4), Point(0, 0, 0, 0))"
            ]
          },
          "metadata": {},
          "execution_count": 24
        }
      ]
    },
    {
      "cell_type": "code",
      "source": [
        "# расстояние между двумя точками\n",
        "\n",
        "from sympy.abc import x, y, z\n",
        "point3 = Point(x, y, z)\n",
        "point3.distance(Point(0, 0, 0))"
      ],
      "metadata": {
        "colab": {
          "base_uri": "https://localhost:8080/",
          "height": 39
        },
        "id": "owLPag7bEKMe",
        "outputId": "96d2907d-ee5d-4639-97be-e2a5f2332bdb"
      },
      "execution_count": null,
      "outputs": [
        {
          "output_type": "execute_result",
          "data": {
            "text/plain": [
              "sqrt(x**2 + y**2 + z**2)"
            ],
            "text/latex": "$\\displaystyle \\sqrt{x^{2} + y^{2} + z^{2}}$"
          },
          "metadata": {},
          "execution_count": 27
        }
      ]
    },
    {
      "cell_type": "code",
      "source": [
        "# координаты сериды отрезка\n",
        "\n",
        "p1, p2 = Point(1, 1), Point(13, 5)\n",
        "p1.midpoint(p2)"
      ],
      "metadata": {
        "colab": {
          "base_uri": "https://localhost:8080/",
          "height": 37
        },
        "id": "vdq7n7e9EvXV",
        "outputId": "c7fee957-616c-4b76-c7c9-55f942b3c21e"
      },
      "execution_count": null,
      "outputs": [
        {
          "output_type": "execute_result",
          "data": {
            "text/plain": [
              "Point2D(7, 3)"
            ],
            "text/latex": "$\\displaystyle \\operatorname{Point2D}\\left(7, 3\\right)$"
          },
          "metadata": {},
          "execution_count": 28
        }
      ]
    },
    {
      "cell_type": "code",
      "source": [
        "# принядлежность точки плоскости\n",
        "\n",
        "p1 = Point(1, 2, 2)\n",
        "p2 = Point(2, 7, 2)\n",
        "p3 = Point(0, 0, 2)\n",
        "p4 = Point(1, 1, 2)\n",
        "Point3D.are_coplanar(p1, p2, p3, p4)"
      ],
      "metadata": {
        "colab": {
          "base_uri": "https://localhost:8080/"
        },
        "id": "qxVj3g1hE8dZ",
        "outputId": "02fdddb7-6250-4b1e-aebe-aea942aa54b4"
      },
      "execution_count": null,
      "outputs": [
        {
          "output_type": "execute_result",
          "data": {
            "text/plain": [
              "True"
            ]
          },
          "metadata": {},
          "execution_count": 85
        }
      ]
    },
    {
      "cell_type": "code",
      "source": [
        "# точки принадлежат одной окружности\n",
        "\n",
        "p1, p2, p3, p4 = Point(1,0), Point(0, 1), Point(-1, 0), Point(0, -1)\n",
        "p2.is_concyclic()"
      ],
      "metadata": {
        "colab": {
          "base_uri": "https://localhost:8080/"
        },
        "id": "6OxBdiVnF-7d",
        "outputId": "bc9590a7-68ad-4c28-924f-fa64adae0874"
      },
      "execution_count": null,
      "outputs": [
        {
          "output_type": "execute_result",
          "data": {
            "text/plain": [
              "True"
            ]
          },
          "metadata": {},
          "execution_count": 37
        }
      ]
    },
    {
      "cell_type": "code",
      "source": [
        "# уравнение прямой, проходящей через две точки\n",
        "\n",
        "p1, p2 = Point(-3, 7), Point(12, 11)\n",
        "l1 = Line(p1, p2)\n",
        "l1.equation(), l1.coefficients"
      ],
      "metadata": {
        "colab": {
          "base_uri": "https://localhost:8080/"
        },
        "id": "Q9amNfFCGbDQ",
        "outputId": "192f5d98-6ba1-49f6-bf2c-eb1fd8bd9eac"
      },
      "execution_count": null,
      "outputs": [
        {
          "output_type": "execute_result",
          "data": {
            "text/plain": [
              "(-4*x + 15*y - 117, (-4, 15, -117))"
            ]
          },
          "metadata": {},
          "execution_count": 41
        }
      ]
    },
    {
      "cell_type": "code",
      "source": [
        "# прямая в прострастве задается уравнением двух плоскостей\n",
        "p1, p2 = Point(1, 0, 0), Point(5, 3, 2)\n",
        "l2 = Line(p1, p2)\n",
        "l2.equation()"
      ],
      "metadata": {
        "colab": {
          "base_uri": "https://localhost:8080/",
          "height": 38
        },
        "id": "Dv616x_nG4d4",
        "outputId": "7efdb6d3-2cdf-464d-fe7f-371ecb531404"
      },
      "execution_count": null,
      "outputs": [
        {
          "output_type": "execute_result",
          "data": {
            "text/plain": [
              "(-3*x + 4*y + 3, -x + 2*z + 1)"
            ],
            "text/latex": "$\\displaystyle \\left( - 3 x + 4 y + 3, \\  - x + 2 z + 1\\right)$"
          },
          "metadata": {},
          "execution_count": 44
        }
      ]
    },
    {
      "cell_type": "code",
      "source": [
        "# параметрическое уравнение прямой\n",
        "\n",
        "p1, p2 = Point(1, 0), Point(5, 3)\n",
        "L1 = Line(p1, p2)\n",
        "L1.arbitrary_point(), L1.equation()"
      ],
      "metadata": {
        "colab": {
          "base_uri": "https://localhost:8080/"
        },
        "id": "944nt_53HX4P",
        "outputId": "294ad522-edec-4f68-ad0d-f7335a1f85a5"
      },
      "execution_count": null,
      "outputs": [
        {
          "output_type": "execute_result",
          "data": {
            "text/plain": [
              "(Point2D(4*t + 1, 3*t), -3*x + 4*y + 3)"
            ]
          },
          "metadata": {},
          "execution_count": 46
        }
      ]
    },
    {
      "cell_type": "code",
      "source": [
        "p1, p2 = Point(1, 0, 0), Point(5, 3, 1)\n",
        "L1 = Line(p1, p2)\n",
        "L1.arbitrary_point(), L1.equation()"
      ],
      "metadata": {
        "colab": {
          "base_uri": "https://localhost:8080/"
        },
        "id": "SG8VHOmYIHNK",
        "outputId": "646e6ad8-0f54-42c0-df0f-b50138798228"
      },
      "execution_count": null,
      "outputs": [
        {
          "output_type": "execute_result",
          "data": {
            "text/plain": [
              "(Point3D(4*t + 1, 3*t, t), (-3*x + 4*y + 3, -x + 4*z + 1))"
            ]
          },
          "metadata": {},
          "execution_count": 47
        }
      ]
    },
    {
      "cell_type": "markdown",
      "source": [
        "###  Прямые на плоскости и в пространстве"
      ],
      "metadata": {
        "id": "CbwEwg8IMW04"
      }
    },
    {
      "cell_type": "code",
      "source": [
        "# уравнение прямой проходящей через точка А под заданным углом K\n",
        "\n",
        "A = Point(-2, 3)\n",
        "k = 2\n",
        "line_ = Line(A, slope=k)\n",
        "line_.equation()"
      ],
      "metadata": {
        "colab": {
          "base_uri": "https://localhost:8080/",
          "height": 38
        },
        "id": "XO82FSNKIR-9",
        "outputId": "51be2a85-9db8-436d-a56b-499db04b0df3"
      },
      "execution_count": null,
      "outputs": [
        {
          "output_type": "execute_result",
          "data": {
            "text/plain": [
              "-2*x + y - 7"
            ],
            "text/latex": "$\\displaystyle - 2 x + y - 7$"
          },
          "metadata": {},
          "execution_count": 48
        }
      ]
    },
    {
      "cell_type": "code",
      "source": [
        "# в пространстве, k - вектор направления\n",
        "\n",
        "A = Point(-2, 3, 0)\n",
        "l = Line(A, direction_ratio = [1, 2, 0])\n",
        "l.equation()"
      ],
      "metadata": {
        "colab": {
          "base_uri": "https://localhost:8080/",
          "height": 38
        },
        "id": "7WcY5ltrIrHA",
        "outputId": "4b89c1b5-3867-4b25-b17c-0f6a9e25ac57"
      },
      "execution_count": null,
      "outputs": [
        {
          "output_type": "execute_result",
          "data": {
            "text/plain": [
              "(-2*x + y - 7, z)"
            ],
            "text/latex": "$\\displaystyle \\left( - 2 x + y - 7, \\  z\\right)$"
          },
          "metadata": {},
          "execution_count": 49
        }
      ]
    },
    {
      "cell_type": "code",
      "source": [
        "# направляющий вектор прямой\n",
        "\n",
        "p1, p2 = (0, 0), (3, 3)\n",
        "Line(p1, p2).direction"
      ],
      "metadata": {
        "colab": {
          "base_uri": "https://localhost:8080/",
          "height": 37
        },
        "id": "5o7ty3UIJJUm",
        "outputId": "3d71e2be-25eb-4c13-bbd9-95ac211e7a3e"
      },
      "execution_count": null,
      "outputs": [
        {
          "output_type": "execute_result",
          "data": {
            "text/plain": [
              "Point2D(3, 3)"
            ],
            "text/latex": "$\\displaystyle \\operatorname{Point2D}\\left(3, 3\\right)$"
          },
          "metadata": {},
          "execution_count": 55
        }
      ]
    },
    {
      "cell_type": "code",
      "source": [
        "# нормализация направляющего вектора\n",
        "\n",
        "Line(p1, p2).direction.unit"
      ],
      "metadata": {
        "colab": {
          "base_uri": "https://localhost:8080/",
          "height": 68
        },
        "id": "T8vi_cSnJkzv",
        "outputId": "8a121fca-ba6f-45c3-e362-4436139fb213"
      },
      "execution_count": null,
      "outputs": [
        {
          "output_type": "execute_result",
          "data": {
            "text/plain": [
              "Point2D(sqrt(2)/2, sqrt(2)/2)"
            ],
            "text/latex": "$\\displaystyle \\operatorname{Point2D}\\left(\\frac{\\sqrt{2}}{2}, \\frac{\\sqrt{2}}{2}\\right)$"
          },
          "metadata": {},
          "execution_count": 54
        }
      ]
    },
    {
      "cell_type": "code",
      "source": [
        "# угол между прямыми\n",
        "\n",
        "l1 = Line((0, 0), (1, 0))\n",
        "l2 = Line((1, 1), (0, 0))\n",
        "l2.angle_between(l1)"
      ],
      "metadata": {
        "colab": {
          "base_uri": "https://localhost:8080/",
          "height": 51
        },
        "id": "r_vlIxQTJxta",
        "outputId": "edb3f8f7-4497-4281-9d0b-4dd75827c5c4"
      },
      "execution_count": null,
      "outputs": [
        {
          "output_type": "execute_result",
          "data": {
            "text/plain": [
              "3*pi/4"
            ],
            "text/latex": "$\\displaystyle \\frac{3 \\pi}{4}$"
          },
          "metadata": {},
          "execution_count": 56
        }
      ]
    },
    {
      "cell_type": "code",
      "source": [
        "# наименьший угол между прямыми\n",
        "\n",
        "l2.smallest_angle_between(l1)"
      ],
      "metadata": {
        "colab": {
          "base_uri": "https://localhost:8080/",
          "height": 47
        },
        "id": "pUrfrOcRJ_i7",
        "outputId": "292245fa-3334-4763-832b-4679ae47f85e"
      },
      "execution_count": null,
      "outputs": [
        {
          "output_type": "execute_result",
          "data": {
            "text/plain": [
              "pi/4"
            ],
            "text/latex": "$\\displaystyle \\frac{\\pi}{4}$"
          },
          "metadata": {},
          "execution_count": 57
        }
      ]
    },
    {
      "cell_type": "code",
      "source": [
        "# пересечение прямых\n",
        "\n",
        "l1 = Line3D(Point3D(4, 19, 12), Point3D(5, 25, 17))\n",
        "l2 = Line3D(Point3D(-3, -15, -19), direction_ratio=[2, 8, 8])\n",
        "l1.intersection(l2)"
      ],
      "metadata": {
        "colab": {
          "base_uri": "https://localhost:8080/"
        },
        "id": "yj9t77UeKKzR",
        "outputId": "0968954a-94cd-4ab7-dba6-93fb1f841dd1"
      },
      "execution_count": null,
      "outputs": [
        {
          "output_type": "execute_result",
          "data": {
            "text/plain": [
              "[Point3D(1, 1, -3)]"
            ]
          },
          "metadata": {},
          "execution_count": 59
        }
      ]
    },
    {
      "cell_type": "code",
      "source": [
        "# создание прямой, проходящей через заданную точку и параллельной заданной прямой\n",
        "\n",
        "p1, p2, p3 = Point(0, 0), Point(2, 3), Point(-2, 2)\n",
        "l1 = Line(p1, p2)\n",
        "l2 = l1.parallel_line(p3)\n",
        "p3 in l2"
      ],
      "metadata": {
        "colab": {
          "base_uri": "https://localhost:8080/"
        },
        "id": "qjkZcgNFLGBB",
        "outputId": "4f8a9d02-2cef-49a1-ce0e-0288eb8b7a32"
      },
      "execution_count": null,
      "outputs": [
        {
          "output_type": "execute_result",
          "data": {
            "text/plain": [
              "True"
            ]
          },
          "metadata": {},
          "execution_count": 60
        }
      ]
    },
    {
      "cell_type": "code",
      "source": [
        "# создание прямой проходящей через заданую точку и перпендикулярную заданной прямой\n",
        "\n",
        "p1, p2, p3 = Point(0, 0), Point(2, 3), Point(-2, 2)\n",
        "l1 = Line(p1, p2)\n",
        "l2 = l1.perpendicular_line(p3)\n",
        "p3 in l2"
      ],
      "metadata": {
        "colab": {
          "base_uri": "https://localhost:8080/"
        },
        "id": "yapoXP2qLjMZ",
        "outputId": "af3424a1-45f6-4624-e7ec-d7c03b0d0596"
      },
      "execution_count": null,
      "outputs": [
        {
          "output_type": "execute_result",
          "data": {
            "text/plain": [
              "True"
            ]
          },
          "metadata": {},
          "execution_count": 61
        }
      ]
    },
    {
      "cell_type": "code",
      "source": [
        "# проекция точки на прямую\n",
        "\n",
        "p1, p2, p3 = Point(0, 0), Point(1, 1), Point(Rational(1, 2), 0)\n",
        "l1 = Line(p1, p2)\n",
        "l1.projection(p3)"
      ],
      "metadata": {
        "colab": {
          "base_uri": "https://localhost:8080/",
          "height": 58
        },
        "id": "FDoLr10wL5Xs",
        "outputId": "0b1f4aa9-16ba-47a5-9261-9b9d64eb223d"
      },
      "execution_count": null,
      "outputs": [
        {
          "output_type": "execute_result",
          "data": {
            "text/plain": [
              "Point2D(1/4, 1/4)"
            ],
            "text/latex": "$\\displaystyle \\operatorname{Point2D}\\left(\\frac{1}{4}, \\frac{1}{4}\\right)$"
          },
          "metadata": {},
          "execution_count": 63
        }
      ]
    },
    {
      "cell_type": "markdown",
      "source": [
        "### Плоскости\n",
        "\n",
        "*общее уравнение плоскости:*\n",
        "\n",
        "$Ax + By + Cz + D = 0$"
      ],
      "metadata": {
        "id": "k5maMYLrMesM"
      }
    },
    {
      "cell_type": "code",
      "source": [
        "# уравнение плоскости, проходящей через 3 точки\n",
        "\n",
        "plane = Plane(Point3D(1, 1, 2), Point3D(2, 4, 7), Point3D(3, 5, 1))\n",
        "plane.equation()"
      ],
      "metadata": {
        "colab": {
          "base_uri": "https://localhost:8080/",
          "height": 38
        },
        "id": "R1BVBE-hMkH1",
        "outputId": "e2d09ba6-d523-4a9e-f117-4c5f0e444bdc"
      },
      "execution_count": null,
      "outputs": [
        {
          "output_type": "execute_result",
          "data": {
            "text/plain": [
              "-23*x + 11*y - 2*z + 16"
            ],
            "text/latex": "$\\displaystyle - 23 x + 11 y - 2 z + 16$"
          },
          "metadata": {},
          "execution_count": 64
        }
      ]
    },
    {
      "cell_type": "code",
      "source": [
        "# уравнение плоскости, проходящей через заданную точку с заданным вектором нормали\n",
        "\n",
        "plane = Plane(Point3D(1, 1, 2), normal_vector=(6, 6, 6))\n",
        "plane.equation()"
      ],
      "metadata": {
        "colab": {
          "base_uri": "https://localhost:8080/",
          "height": 38
        },
        "id": "HirdUlT0PENx",
        "outputId": "3f3cfe66-d944-4ae4-d881-1a482d1dd8c0"
      },
      "execution_count": null,
      "outputs": [
        {
          "output_type": "execute_result",
          "data": {
            "text/plain": [
              "6*x + 6*y + 6*z - 24"
            ],
            "text/latex": "$\\displaystyle 6 x + 6 y + 6 z - 24$"
          },
          "metadata": {},
          "execution_count": 65
        }
      ]
    },
    {
      "cell_type": "markdown",
      "source": [
        "*Пример 7:* построить плоскость, проходящую через точку (1, 1, 1) с нормальным вектором (1, 4, 7)"
      ],
      "metadata": {
        "id": "3_QqEFK0Pjuz"
      }
    },
    {
      "cell_type": "code",
      "source": [
        "Plane((1, 1, 1), (1, 4, 7)).equation()"
      ],
      "metadata": {
        "colab": {
          "base_uri": "https://localhost:8080/",
          "height": 38
        },
        "id": "chlnFIChPi1d",
        "outputId": "d940383b-9bf0-4712-c682-4e8e68374602"
      },
      "execution_count": null,
      "outputs": [
        {
          "output_type": "execute_result",
          "data": {
            "text/plain": [
              "x + 4*y + 7*z - 12"
            ],
            "text/latex": "$\\displaystyle x + 4 y + 7 z - 12$"
          },
          "metadata": {},
          "execution_count": 69
        }
      ]
    },
    {
      "cell_type": "code",
      "source": [
        "# координаты вектора нормали\n",
        "\n",
        "plane.normal_vector"
      ],
      "metadata": {
        "colab": {
          "base_uri": "https://localhost:8080/",
          "height": 37
        },
        "id": "AqvKjN9tP6L_",
        "outputId": "f2e4319e-27ee-4377-f1ba-d5dd6d85d207"
      },
      "execution_count": null,
      "outputs": [
        {
          "output_type": "execute_result",
          "data": {
            "text/plain": [
              "(6, 6, 6)"
            ],
            "text/latex": "$\\displaystyle \\left( 6, \\  6, \\  6\\right)$"
          },
          "metadata": {},
          "execution_count": 73
        }
      ]
    },
    {
      "cell_type": "code",
      "source": [
        "# создание плоскости, параллельной даннной плоскости и проходящей через заданную точку\n",
        "\n",
        "plane.parallel_plane(Point3D(2, 3, 5)).equation()"
      ],
      "metadata": {
        "colab": {
          "base_uri": "https://localhost:8080/",
          "height": 38
        },
        "id": "shXsf_Z0Qd8o",
        "outputId": "42a05b07-2eca-44cd-a7bf-318e11ee3598"
      },
      "execution_count": null,
      "outputs": [
        {
          "output_type": "execute_result",
          "data": {
            "text/plain": [
              "6*x + 6*y + 6*z - 60"
            ],
            "text/latex": "$\\displaystyle 6 x + 6 y + 6 z - 60$"
          },
          "metadata": {},
          "execution_count": 75
        }
      ]
    },
    {
      "cell_type": "code",
      "source": [
        "# создание плоскости, перпендикулярной даннной плоскости и проходящей через заданные две точки\n",
        "\n",
        "p1, p2 = Point3D(0, 0, 0), Point3D(0, 1, 0)\n",
        "norm = (0, 0, 1)\n",
        "plane = Plane(p1, normal_vector=norm)\n",
        "plane.perpendicular_plane(p1, p2).equation()"
      ],
      "metadata": {
        "colab": {
          "base_uri": "https://localhost:8080/",
          "height": 38
        },
        "id": "afeuGS-5REfq",
        "outputId": "05fa5ebf-d9c9-48b1-e7d3-a98a6e1cbe1b"
      },
      "execution_count": null,
      "outputs": [
        {
          "output_type": "execute_result",
          "data": {
            "text/plain": [
              "x"
            ],
            "text/latex": "$\\displaystyle x$"
          },
          "metadata": {},
          "execution_count": 76
        }
      ]
    },
    {
      "cell_type": "code",
      "source": [
        "# расстояние от точки или прямой до плоскости\n",
        "\n",
        "plane = Plane((1, 1, 1), (1, 1, 1))\n",
        "p1 = Point3D(1, 2, 3)\n",
        "plane.distance(p1)"
      ],
      "metadata": {
        "colab": {
          "base_uri": "https://localhost:8080/",
          "height": 38
        },
        "id": "UaktrUq6R8-I",
        "outputId": "3c9fd14b-8853-4541-982e-cf5c2d689307"
      },
      "execution_count": null,
      "outputs": [
        {
          "output_type": "execute_result",
          "data": {
            "text/plain": [
              "sqrt(3)"
            ],
            "text/latex": "$\\displaystyle \\sqrt{3}$"
          },
          "metadata": {},
          "execution_count": 77
        }
      ]
    },
    {
      "cell_type": "markdown",
      "source": [],
      "metadata": {
        "id": "pZ1_Sl8VSGAi"
      }
    },
    {
      "cell_type": "markdown",
      "source": [],
      "metadata": {
        "id": "JrFU6XDLSGFi"
      }
    },
    {
      "cell_type": "code",
      "source": [
        "# угол между прямой и плоскостью\n",
        "\n",
        "plane = Plane((1, 2, 2), (1, 2, 3))\n",
        "line = Line3D((1, 3, 4), (2, 2, 2))\n",
        "plane.angle_between(line)"
      ],
      "metadata": {
        "colab": {
          "base_uri": "https://localhost:8080/",
          "height": 68
        },
        "id": "lj7MR699SQZj",
        "outputId": "b7205302-b9ee-4281-cf7a-27616488f040"
      },
      "execution_count": null,
      "outputs": [
        {
          "output_type": "execute_result",
          "data": {
            "text/plain": [
              "-asin(sqrt(21)/6)"
            ],
            "text/latex": "$\\displaystyle - \\operatorname{asin}{\\left(\\frac{\\sqrt{21}}{6} \\right)}$"
          },
          "metadata": {},
          "execution_count": 78
        }
      ]
    },
    {
      "cell_type": "code",
      "source": [
        "# проекция прямой на плоскость\n",
        "\n",
        "plane = Plane((1, 1, 1), (1, 1, 1))\n",
        "line = Line3D((1, 1, 1), (0, 2, 3))\n",
        "plane.projection_line(line) in plane"
      ],
      "metadata": {
        "colab": {
          "base_uri": "https://localhost:8080/"
        },
        "id": "qgmhO7mUSqd1",
        "outputId": "e1179a7d-1e2c-4c34-e9df-4b08b87b8f15"
      },
      "execution_count": null,
      "outputs": [
        {
          "output_type": "execute_result",
          "data": {
            "text/plain": [
              "True"
            ]
          },
          "metadata": {},
          "execution_count": 87
        }
      ]
    },
    {
      "cell_type": "markdown",
      "source": [
        "**Домашнее задание 3.1**"
      ],
      "metadata": {
        "id": "NTA9IBKlSA6n"
      }
    },
    {
      "cell_type": "markdown",
      "source": [
        "*Пример №1:* даны векторы $a=(2, -3.4, 1), b=(-6.9, -12, -3), p=(3.2, -1, 4)$ вычислить\n",
        "\n",
        "$x = 2(a*b)*p + 3*b(p*p) - |b|*b$\n",
        "\n",
        "указать тип х"
      ],
      "metadata": {
        "id": "KS6kEtKhSE5B"
      }
    },
    {
      "cell_type": "markdown",
      "source": [
        "*Пример №2:* определить угол между векторами\n",
        "\n",
        "$a=(2, -3.4, 1), b=(-6.9, -1.2, -3)$"
      ],
      "metadata": {
        "id": "dTbPK6eBSE82"
      }
    },
    {
      "cell_type": "markdown",
      "source": [
        "*Пример №3:* найти напраляющий вектор прямой\n",
        "\n",
        "$4x - 7y - 14 = 0$"
      ],
      "metadata": {
        "id": "3DkQdxTeSFAz"
      }
    },
    {
      "cell_type": "markdown",
      "source": [
        "*Пример №4:* прямую $x + y - 2 = 0$ записать в параметрическом виде"
      ],
      "metadata": {
        "id": "iV1HgDhFSFEq"
      }
    },
    {
      "cell_type": "markdown",
      "source": [
        "*Пример №5:* написать уравнение прямой, проходящей через точку M и перпендикулярной прямой l, если\n",
        "\n",
        "$M(3, 3), l: x + 2y - 4 =0$"
      ],
      "metadata": {
        "id": "hEsu6-juSFIW"
      }
    },
    {
      "cell_type": "markdown",
      "source": [
        "*Пример №6:* написать уравнение прямой, проходящей через точку M и точку пересечени прямых l1, l2\n",
        "\n",
        "$M(2, 0)$\n",
        "\n",
        "$l1: 2x - y - 1 = 0$\n",
        "\n",
        "$l2: x + 3y - 4 = 0$"
      ],
      "metadata": {
        "id": "vOulE1YhSFLe"
      }
    },
    {
      "cell_type": "markdown",
      "source": [
        "*Пример №7:* найти расстояние от точки P(-2, 2) до прямой l, записанной в параметрическом виде\n",
        "\n",
        "$l: x = 2t - 3, y = t + 2$"
      ],
      "metadata": {
        "id": "fJ2OLG6JSbr6"
      }
    },
    {
      "cell_type": "markdown",
      "source": [
        "*Пример №8:* найти основание перпендикуляра, опущенного из начала координат на прямую l\n",
        "\n",
        "$l: x - y - 17 = 0$"
      ],
      "metadata": {
        "id": "bsLx-SwLSb0b"
      }
    },
    {
      "cell_type": "markdown",
      "source": [
        "*Пример №9:* дан куб $ABDEA_1B_1D_1E_1$ со стороной равной 1.\n",
        "Найти угол между диагонялями $AD_1$ и $B_1E$"
      ],
      "metadata": {
        "id": "DbTgZymtSb9Y"
      }
    },
    {
      "cell_type": "markdown",
      "source": [
        "*Пример №10:* показать, что три медианы трегольника пересекаются в одной точке"
      ],
      "metadata": {
        "id": "bebuieH-ScF9"
      }
    }
  ]
}