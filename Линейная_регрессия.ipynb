{
  "nbformat": 4,
  "nbformat_minor": 0,
  "metadata": {
    "colab": {
      "provenance": [],
      "mount_file_id": "1MYylaCrQQ3LQTd7GvKVP2ipHcAQl_fnT",
      "authorship_tag": "ABX9TyMdTzh/sG8K/NBX6vERvlUU",
      "include_colab_link": true
    },
    "kernelspec": {
      "name": "python3",
      "display_name": "Python 3"
    },
    "language_info": {
      "name": "python"
    }
  },
  "cells": [
    {
      "cell_type": "markdown",
      "metadata": {
        "id": "view-in-github",
        "colab_type": "text"
      },
      "source": [
        "<a href=\"https://colab.research.google.com/github/AlexeyTri/Mathematics/blob/main/%D0%9B%D0%B8%D0%BD%D0%B5%D0%B9%D0%BD%D0%B0%D1%8F_%D1%80%D0%B5%D0%B3%D1%80%D0%B5%D1%81%D1%81%D0%B8%D1%8F.ipynb\" target=\"_parent\"><img src=\"https://colab.research.google.com/assets/colab-badge.svg\" alt=\"Open In Colab\"/></a>"
      ]
    },
    {
      "cell_type": "markdown",
      "source": [
        "**Линейная регрессия (linear regression)** - алгоритм машинного обучения, описывающий зависимость целевой переменной от признака в виде линейной функции:\n",
        "\n",
        "$y = kx + b$\n",
        "\n",
        "$f_{w, b}(x) = w_0x_0 + w_1x_1 + ... + w_nx_n + b$\n",
        "\n",
        "w - weigths, вектор весов $\\in ℝ^{1 \\times n}$. Совокупность весов всех экземпляров образуют матрицу весов $W \\in ℝ^{n \\times k}$\n",
        "\n",
        "k - target, количество целевых классов\n",
        "\n",
        "n - количество признаков\n",
        "\n",
        "x - features, вектор признаков одного обучающего экземпляра $\\in ℝ^{1 \\times n}$. Совокупность признаков всех экземпляров образуют матрицу признакового описания $X \\in ℝ^{l \\times n}$\n",
        "\n",
        "l - количество экземпляров\n",
        "\n",
        "b - bias, отступ модели"
      ],
      "metadata": {
        "id": "Vuywg0GFTQqS"
      }
    },
    {
      "cell_type": "markdown",
      "source": [
        "**Функция потерь** описывает разницу между значением целевой переменной (значением класса) и результатом предсказания алгоритма.\n",
        "Согласно теоремы Гаусса-Маркова, для алгоритма линейной регрессии наиболее оптимальной является функция среднеквадратичной ошибки:\n",
        "\n",
        "$𝓛 = ||\\hat y - y||^2$, где\n",
        "\n",
        "$\\hat y$ - результат работ алгоритма $\\in ℝ$, в задачах линейно регресии\n",
        "$y$ - целевая переменная\n",
        "\n",
        "\n",
        "В векторной/матричной форме:\n",
        "\n",
        "$𝓛(w, X, y) = \\frac{1}{2l}∑_{i=1}^{l}(w^Tx_i-y_i)^2 = \\\\\n",
        "\\frac{1}{2l}||Xw - y||^2 = \\frac{1}{2l}(Xw - y)^T(Xw - y) =\\\\\n",
        "\\frac{1}{2l}((Xw)^T(Xw) - (Xw)^Ty - y^T(Xw) + y^Ty) ⇒\\\\\n",
        "\\frac{𝑑𝓛}{𝑑w}=0 ⇒ \\frac{1}{2l}(2X^TXw - 2X^Ty) = 0 ⇒\\\\\n",
        "X^TXw = X^Ty ⇒\\\\\n",
        "w = (X^TX)^{-1}X^Ty$"
      ],
      "metadata": {
        "id": "gmyzDCbVdm5N"
      }
    },
    {
      "cell_type": "markdown",
      "source": [
        "*Способы вычисления $w$:*\n",
        "\n",
        "1. на основании аналитической формулы, выведенной выше. Основные проблемы с реализацией в больших вычислительных затратах для расчета обратной матрицы\n",
        "2. итеративный способ, на основании расчета градиетна и последующего шага функции потерь в данном направлении:\n",
        "\n",
        "$\\frac{𝑑𝓛}{𝑑w}=0 ⇒ \\frac{1}{l}∑_{i=1}^{l}(f_{w,b}(x_i) - y_i)x_i\\\\\n",
        "\\frac{𝑑𝓛}{𝑑b}=0 ⇒ \\frac{1}{l}∑_{i=1}^{l}(f_{w,b}(x_i) - y_i)\\\\\n",
        "b_j = b_{j-1} - α * \\frac{𝑑𝓛}{𝑑b_j}\\\\\n",
        "w_j = w_{j-1} - α * \\frac{𝑑𝓛}{𝑑w_j}$\n",
        "\n",
        "\n",
        "\n",
        "\n",
        "\n",
        "\n",
        "\n",
        "\n"
      ],
      "metadata": {
        "id": "t-5FrIBcm8VK"
      }
    },
    {
      "cell_type": "markdown",
      "source": [
        "# Задача: спрогнозировать доход сотрудников на основании их опыта и возраста"
      ],
      "metadata": {
        "id": "V77ez3_vargU"
      }
    },
    {
      "cell_type": "code",
      "execution_count": 1,
      "metadata": {
        "id": "qCCRXrkTSQ84"
      },
      "outputs": [],
      "source": [
        "# dataset URL: https://www.kaggle.com/datasets/hussainnasirkhan/multiple-linear-regression-dataset\n",
        "\n",
        "import pandas as pd\n",
        "import requests\n",
        "import io\n",
        "import zipfile\n",
        "\n",
        "zipped = zipfile.ZipFile(\"/content/drive/MyDrive/Colab Notebooks/archive.zip\")\n",
        "zfile = zipped.open(zipped.infolist()[0])\n",
        "df=pd.read_csv(zfile)"
      ]
    },
    {
      "cell_type": "code",
      "source": [
        "import numpy as np\n",
        "import pandas as pd\n",
        "import matplotlib.pyplot as plt\n",
        "from sklearn.datasets import make_regression\n",
        "from sklearn.model_selection import train_test_split\n",
        "from sklearn.preprocessing import scale, PolynomialFeatures\n",
        "from sklearn.linear_model import LinearRegression, Ridge, Lasso, ElasticNet\n",
        "from sklearn.metrics import mean_absolute_percentage_error, mean_squared_error, r2_score"
      ],
      "metadata": {
        "id": "xaJAdgIevzdZ"
      },
      "execution_count": 2,
      "outputs": []
    },
    {
      "cell_type": "code",
      "source": [
        "class MatrixLinearRegression:\n",
        "\n",
        "    def fit(self, X, y):\n",
        "        X = np.insert(X, 0, 1, axis=1) #add vector b, l - dimmension\n",
        "        X_inv_X = np.linalg.inv(np.dot(X.T,X)) # (X.T * X) ** -1\n",
        "        weights = np.linalg.multi_dot([X_inv_X, X.T, y])\n",
        "        self.bias, self.weights = weights[0], weights[1:]\n",
        "\n",
        "    def predict(self, X_test):\n",
        "        return X_test @ self.weights + self.bias"
      ],
      "metadata": {
        "id": "xR1j3odvwjiw"
      },
      "execution_count": 16,
      "outputs": []
    },
    {
      "cell_type": "code",
      "source": [
        "class GDLinearRegression:\n",
        "    def __init__(self, learning_rate=0.01, tolerance=1e-8):\n",
        "        self.learning_rate = learning_rate\n",
        "        self.tolerance = tolerance\n",
        "\n",
        "    def fit(self, X, y):\n",
        "        n_samples, n_features = X.shape\n",
        "        self.bias, self.weights = 0, np.zeros(n_features)\n",
        "        previos_db, previos_dw = 0, np.zeros(n_features)\n",
        "\n",
        "        while True:\n",
        "            y_pred = X @ self.weights + self.bias\n",
        "            db = 1/ n_samples * np.sum(y_pred - y)\n",
        "            dw = 1/ n_samples * X.T @ (y_pred - y)\n",
        "            self.bias -= self.learning_rate * db\n",
        "            self.weights -= self.learning_rate * dw\n",
        "\n",
        "            abs_db_reduction = np.abs(db - previos_db)\n",
        "            abs_dw_reduction = np.abs(dw - previos_dw)\n",
        "\n",
        "            if abs_db_reduction < self.tolerance:\n",
        "                if abs_dw_reduction.all() < self.tolerance:\n",
        "                    break\n",
        "\n",
        "            previos_db = db\n",
        "            previos_dw = dw\n",
        "\n",
        "    def predict(self, X_test):\n",
        "        return X_test @ self.weights + self.bias"
      ],
      "metadata": {
        "id": "guRDIm7vUjH7"
      },
      "execution_count": 19,
      "outputs": []
    },
    {
      "cell_type": "code",
      "source": [
        "X1, y1 = df.iloc[:, :-1].values, df.iloc[:, -1].values\n",
        "X1_scaled = scale(X1)\n",
        "X1_train, X1_test, y1_train, y1_test = train_test_split(X1, y1, random_state=0)\n",
        "X1_train_s, X1_test_s, y1_train, y1_test = train_test_split(X1_scaled, y1, random_state=0)\n",
        "\n",
        "correlation_matrix = df.corr()\n",
        "correlation_matrix.style.background_gradient(cmap='coolwarm')"
      ],
      "metadata": {
        "colab": {
          "base_uri": "https://localhost:8080/",
          "height": 142
        },
        "id": "7WtKrpKEaWG9",
        "outputId": "532fbdbf-d6f8-448c-881f-6cc2e03ce8a8"
      },
      "execution_count": 6,
      "outputs": [
        {
          "output_type": "execute_result",
          "data": {
            "text/plain": [
              "<pandas.io.formats.style.Styler at 0x7bf034429490>"
            ],
            "text/html": [
              "<style type=\"text/css\">\n",
              "#T_4f46a_row0_col0, #T_4f46a_row1_col1, #T_4f46a_row2_col2 {\n",
              "  background-color: #b40426;\n",
              "  color: #f1f1f1;\n",
              "}\n",
              "#T_4f46a_row0_col1, #T_4f46a_row0_col2, #T_4f46a_row2_col0 {\n",
              "  background-color: #3b4cc0;\n",
              "  color: #f1f1f1;\n",
              "}\n",
              "#T_4f46a_row1_col0 {\n",
              "  background-color: #7396f5;\n",
              "  color: #f1f1f1;\n",
              "}\n",
              "#T_4f46a_row1_col2 {\n",
              "  background-color: #c0282f;\n",
              "  color: #f1f1f1;\n",
              "}\n",
              "#T_4f46a_row2_col1 {\n",
              "  background-color: #c32e31;\n",
              "  color: #f1f1f1;\n",
              "}\n",
              "</style>\n",
              "<table id=\"T_4f46a\" class=\"dataframe\">\n",
              "  <thead>\n",
              "    <tr>\n",
              "      <th class=\"blank level0\" >&nbsp;</th>\n",
              "      <th id=\"T_4f46a_level0_col0\" class=\"col_heading level0 col0\" >age</th>\n",
              "      <th id=\"T_4f46a_level0_col1\" class=\"col_heading level0 col1\" >experience</th>\n",
              "      <th id=\"T_4f46a_level0_col2\" class=\"col_heading level0 col2\" >income</th>\n",
              "    </tr>\n",
              "  </thead>\n",
              "  <tbody>\n",
              "    <tr>\n",
              "      <th id=\"T_4f46a_level0_row0\" class=\"row_heading level0 row0\" >age</th>\n",
              "      <td id=\"T_4f46a_row0_col0\" class=\"data row0 col0\" >1.000000</td>\n",
              "      <td id=\"T_4f46a_row0_col1\" class=\"data row0 col1\" >0.615165</td>\n",
              "      <td id=\"T_4f46a_row0_col2\" class=\"data row0 col2\" >0.532204</td>\n",
              "    </tr>\n",
              "    <tr>\n",
              "      <th id=\"T_4f46a_level0_row1\" class=\"row_heading level0 row1\" >experience</th>\n",
              "      <td id=\"T_4f46a_row1_col0\" class=\"data row1 col0\" >0.615165</td>\n",
              "      <td id=\"T_4f46a_row1_col1\" class=\"data row1 col1\" >1.000000</td>\n",
              "      <td id=\"T_4f46a_row1_col2\" class=\"data row1 col2\" >0.984227</td>\n",
              "    </tr>\n",
              "    <tr>\n",
              "      <th id=\"T_4f46a_level0_row2\" class=\"row_heading level0 row2\" >income</th>\n",
              "      <td id=\"T_4f46a_row2_col0\" class=\"data row2 col0\" >0.532204</td>\n",
              "      <td id=\"T_4f46a_row2_col1\" class=\"data row2 col1\" >0.984227</td>\n",
              "      <td id=\"T_4f46a_row2_col2\" class=\"data row2 col2\" >1.000000</td>\n",
              "    </tr>\n",
              "  </tbody>\n",
              "</table>\n"
            ]
          },
          "metadata": {},
          "execution_count": 6
        }
      ]
    },
    {
      "cell_type": "code",
      "source": [
        "matrix_linear_regression = MatrixLinearRegression()\n",
        "matrix_linear_regression.fit(X1_train_s, y1_train)\n",
        "matrix_lr_pred_res = matrix_linear_regression.predict(X1_test_s)\n",
        "matrix_lr_r2 = r2_score(y1_test, matrix_lr_pred_res)\n",
        "matrix_lr_mape = mean_absolute_percentage_error(y1_test, matrix_lr_pred_res)\n",
        "\n",
        "print(f'Matrix Linear regression  R2 score: {matrix_lr_r2}')\n",
        "print(f'Matrix Linear regression MAPE: {matrix_lr_mape}', '\\n')\n",
        "\n",
        "print(f'weights: {matrix_linear_regression.bias, *matrix_linear_regression.weights}')\n",
        "print(f'prediction: {matrix_lr_pred_res}')"
      ],
      "metadata": {
        "colab": {
          "base_uri": "https://localhost:8080/"
        },
        "id": "abl6bTRZdKLz",
        "outputId": "6a385928-6beb-45da-e3e3-1d92b5a22d4d"
      },
      "execution_count": 17,
      "outputs": [
        {
          "output_type": "stream",
          "name": "stdout",
          "text": [
            "Matrix Linear regression  R2 score: 0.9307237996010834\n",
            "Matrix Linear regression MAPE: 0.04666577176525877 \n",
            "\n",
            "weights: (np.float64(40922.38666080836), np.float64(-1049.7866043343445), np.float64(8718.76435636617))\n",
            "prediction: [46528.00800666 35018.47848628 49448.73803373 38604.36954966\n",
            " 30788.13913983]\n"
          ]
        }
      ]
    },
    {
      "cell_type": "code",
      "source": [
        "linear_regression = GDLinearRegression()\n",
        "linear_regression.fit(X1_train_s, y1_train)\n",
        "pred_res = linear_regression.predict(X1_test_s)\n",
        "r2 = r2_score(y1_test, pred_res)\n",
        "mape = mean_absolute_percentage_error(y1_test, pred_res)\n",
        "\n",
        "print(f'Linear regression R2 score: {r2}')\n",
        "print(f'Linear regression MAPE: {mape}', '\\n')\n",
        "\n",
        "print(f'weights: {linear_regression.bias, *linear_regression.weights}')\n",
        "print(f'prediction: {pred_res}')"
      ],
      "metadata": {
        "colab": {
          "base_uri": "https://localhost:8080/"
        },
        "id": "_910KG1pfCGi",
        "outputId": "6e2dba68-f231-43e3-a8dc-528146d3f382"
      },
      "execution_count": 20,
      "outputs": [
        {
          "output_type": "stream",
          "name": "stdout",
          "text": [
            "Linear regression R2 score: 0.9307237996010985\n",
            "Linear regression MAPE: 0.04666577176525461 \n",
            "\n",
            "weights: (np.float64(40922.386660807955), np.float64(-1049.7866043338142), np.float64(8718.76435636563))\n",
            "prediction: [46528.00800666 35018.47848628 49448.73803373 38604.36954966\n",
            " 30788.13913983]\n"
          ]
        }
      ]
    },
    {
      "cell_type": "code",
      "source": [
        "sk_linear_regression = LinearRegression()\n",
        "sk_linear_regression.fit(X1_train, y1_train)\n",
        "\n",
        "sk_lr_pred_res = sk_linear_regression.predict(X1_test)\n",
        "sk_lr_r2 = r2_score(y1_test, sk_lr_pred_res)\n",
        "sk_lr_mape = mean_absolute_percentage_error(y1_test, sk_lr_pred_res)\n",
        "\n",
        "print(f'Scikit-learn Linear regression R2 score: {sk_lr_r2}')\n",
        "print(f'Scikit-learn Linear regression MAPE: {sk_lr_mape}', '\\n')\n",
        "\n",
        "print(f'weights: {sk_linear_regression.intercept_, *sk_linear_regression.coef_}')\n",
        "print(f'prediction: {sk_lr_pred_res}', '\\n')\n",
        "\n",
        "sk_linear_regression.fit(X1_train_s, y1_train)\n",
        "print(f'scaled weights: {sk_linear_regression.intercept_, *sk_linear_regression.coef_}')"
      ],
      "metadata": {
        "colab": {
          "base_uri": "https://localhost:8080/"
        },
        "id": "4U0deqlifrlZ",
        "outputId": "92a0c8ab-73cd-4f4c-b83d-a28101e13751"
      },
      "execution_count": 21,
      "outputs": [
        {
          "output_type": "stream",
          "name": "stdout",
          "text": [
            "Scikit-learn Linear regression R2 score: 0.9307237996010832\n",
            "Scikit-learn Linear regression MAPE: 0.046665771765258775 \n",
            "\n",
            "weights: (np.float64(31734.098811233787), np.float64(-107.40804717984585), np.float64(2168.8736968153985))\n",
            "prediction: [46528.00800666 35018.47848628 49448.73803373 38604.36954966\n",
            " 30788.13913983] \n",
            "\n",
            "scaled weights: (np.float64(40922.38666080837), np.float64(-1049.7866043343417), np.float64(8718.764356366162))\n"
          ]
        }
      ]
    },
    {
      "cell_type": "markdown",
      "source": [
        "**Дмашнее задание 4.1:**\n",
        "\n",
        "\n",
        "\n",
        "1.   реализовать функцию scale - 25 баллов\n",
        "2.   реализовать функцию R2_Score - 25 баллов\n",
        "3.   реализовать функцию MAPE - 25 баллов\n",
        "4.   реализовать пайплайн ЛинейнойРегресии с полученными функциями - 25 баллов\n",
        "\n"
      ],
      "metadata": {
        "id": "PPErd2VYfuxG"
      }
    }
  ]
}